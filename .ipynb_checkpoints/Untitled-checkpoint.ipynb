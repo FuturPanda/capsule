{
 "cells": [
  {
   "cell_type": "code",
   "execution_count": 2,
   "id": "ee5ec286-4672-49dd-a55b-4577cc864be6",
   "metadata": {},
   "outputs": [
    {
     "name": "stdout",
     "output_type": "stream",
     "text": [
      "Mocodo 4.3.2 loaded.\n"
     ]
    }
   ],
   "source": [
    "%reload_ext mocodo"
   ]
  },
  {
   "cell_type": "code",
   "execution_count": 3,
   "id": "820fb7a6-c6d7-4336-a4de-6239c7d48026",
   "metadata": {},
   "outputs": [],
   "source": [
    "from IPython import display\n",
    "from pathlib import Path\n",
    "import os\n",
    "if Path.cwd().name != \"mocodo_notebook\":\n",
    "    Path(\"mocodo_notebook\").mkdir(parents=True, exist_ok=True)\n",
    "    os.chdir(\"mocodo_notebook\")"
   ]
  },
  {
   "cell_type": "code",
   "execution_count": 54,
   "id": "e3ab1d85-627e-46d7-9e28-cadf749eb140",
   "metadata": {},
   "outputs": [],
   "source": [
    "%%mocodo \n",
    "A 3, 01 Utilisateurs,  11 REFRESH TOKENs\n",
    "Utilisateurs: email, mot de passe\n",
    "/\\ Personnes <- User\n",
    ":\n",
    ":\n",
    "Personnes: email, nom de famille, prénom, date de naissance, téléphone, code postal, métier\n",
    ":\n",
    "\n",
    "Refresh Tokens: token, date d'expiration, date de révocation\n",
    ":\n",
    "Est autorisé, 1N Utilisateurs, 0N CLIENT, 0N Resource: nature de l'autorisation\n",
    "Resource: nom,type,\n",
    "/XT\\ Resource <- Tâche, Personnes, Database, Document\n",
    "ASSIGNER, 0N TÂCHE, 0N PERSONNE\n",
    ":\n",
    "\n",
    "A 2, 01 client,  11 REFRESH TOKENs\n",
    "Client: nom, redirect_uri\n",
    "/\\ Entreprise <- Client\n",
    "Database: nom, id client\n",
    "Document: titre, contenu\n",
    "Tâche:  contenu, date limite, date d'assignation, priorité, progrès\n",
    "EMPLOYER, 0N Entreprise, 0N Personne\n",
    "DIRIGER, 1N Entreprise, ON Personne\n",
    "\n",
    ":\n",
    ":\n",
    ":\n",
    ":\n",
    ":\n",
    "Entreprise: nom, code postal, siret\n",
    ":\n"
   ]
  },
  {
   "cell_type": "code",
   "execution_count": null,
   "id": "8a0c273a-508b-42f4-922a-e92f4c6934a2",
   "metadata": {},
   "outputs": [],
   "source": []
  }
 ],
 "metadata": {
  "kernelspec": {
   "display_name": "Python 3 (ipykernel)",
   "language": "python",
   "name": "python3"
  },
  "language_info": {
   "codemirror_mode": {
    "name": "ipython",
    "version": 3
   },
   "file_extension": ".py",
   "mimetype": "text/x-python",
   "name": "python",
   "nbconvert_exporter": "python",
   "pygments_lexer": "ipython3",
   "version": "3.13.2"
  }
 },
 "nbformat": 4,
 "nbformat_minor": 5
}
